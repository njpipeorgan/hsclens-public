{
 "cells": [
  {
   "attachments": {},
   "cell_type": "markdown",
   "metadata": {},
   "source": [
    "# A practical guide to the `hsclens` pipeline"
   ]
  },
  {
   "attachments": {},
   "cell_type": "markdown",
   "metadata": {},
   "source": [
    "## Overview"
   ]
  },
  {
   "attachments": {},
   "cell_type": "markdown",
   "metadata": {},
   "source": [
    "The goal of the `hsclens` pipeline is to constrain the cosmological and astrophysical parameters by comparing the real weak lensing catalogues to the mock catalogs from simulations. In this notebook, I will introduce the code and scripts that need to be run to do the analysis. For a detailed decription of the pipeline, see the paper [Cosmological constraints from HSC survey first-year data using deep learning](https://arxiv.org/abs/2301.01354)."
   ]
  },
  {
   "attachments": {},
   "cell_type": "markdown",
   "metadata": {},
   "source": [
    "## Prerequisites"
   ]
  },
  {
   "attachments": {},
   "cell_type": "markdown",
   "metadata": {},
   "source": [
    "### `pkdgrav3`"
   ]
  },
  {
   "attachments": {},
   "cell_type": "markdown",
   "metadata": {},
   "source": [
    "`pkdgrav3` is a high performance cosmological simulation code. Clone the repository from [dpotter/pkdgrav3](https://bitbucket.org/dpotter/pkdgrav3/src/master/), and build the binary following the steps in README. `pkdgrav3` depends on CMake, Python3, GSL, and FFTW. In my build, these three lines in `build/pkd_config.h` are commented:\n",
    "```c++\n",
    "/* #undef USE_CUDA */\n",
    "/* #undef INTEGER_POSITION */\n",
    "/* #undef POTENTIAL_IN_LIGHTCONE */\n",
    "```"
   ]
  },
  {
   "attachments": {},
   "cell_type": "markdown",
   "metadata": {},
   "source": [
    "### `MUSIC`"
   ]
  },
  {
   "attachments": {},
   "cell_type": "markdown",
   "metadata": {},
   "source": [
    "`MUSIC` generates initial conditions for the cosmological simulations. Clone the repository from [ohahn/music](https://bitbucket.org/ohahn/music/src/master/), and build the binary following the steps in README. `MUSIC` depends on FFTW, GSL, and HDF5."
   ]
  },
  {
   "attachments": {},
   "cell_type": "markdown",
   "metadata": {},
   "source": [
    "### `rockstar`"
   ]
  },
  {
   "attachments": {},
   "cell_type": "markdown",
   "metadata": {},
   "source": [
    "`rockstar` is a halo finder. Clone the repository from [dpotter/pkdgrav3](https://bitbucket.org/dpotter/pkdgrav3/src/master/), and build the binary with `make`. In my pipeline, `rockstar` will read the *N*-body snapshots in TIPSY format, and produces halo catalogues in ASCII and binary formats."
   ]
  },
  {
   "attachments": {},
   "cell_type": "markdown",
   "metadata": {},
   "source": [
    "### `hsclens`"
   ]
  },
  {
   "attachments": {},
   "cell_type": "markdown",
   "metadata": {},
   "source": [
    "`hsclens` processes and analyzing *N*-body and halo data. It can produce mock weak lensing catalogues based on the simulations and the real catalogues. The source code of `hsclens` is under the current directory (`main.cpp` and `utils.h`). To compile `hsclens` with icc on Stampede2/Frontera, run\n",
    "```bash\n",
    "module load intel/19 impi\n",
    "icpc -Wall -Ofast -g -xCORE-AVX512 -std=c++17 -fopenmp -I$MKLROOT/include/fftw -o hsclens main.cpp -mkl -lz -lstdc++fs\n",
    "```"
   ]
  },
  {
   "cell_type": "markdown",
   "metadata": {},
   "source": [
    "\n",
    "The usage of `hsclens` typically looks like:\n",
    "```bash\n",
    "hsclens <task> <more_arguments...>\n",
    "```"
   ]
  },
  {
   "attachments": {},
   "cell_type": "markdown",
   "metadata": {},
   "source": [
    "## *N*-body simulation"
   ]
  },
  {
   "attachments": {},
   "cell_type": "markdown",
   "metadata": {},
   "source": [
    "### Calculate simulated cosmologies and snapshot schedule"
   ]
  },
  {
   "attachments": {},
   "cell_type": "markdown",
   "metadata": {},
   "source": [
    "For HSC Y1, I choose the following 79 cosmologies where the simulation are run. The cosmologies are arranged along 7 constant $S_8=\\sigma_8(\\Omega_m/0.3)^{0.5}$ curves ($0.662\\le S_8\\le0.966$). "
   ]
  },
  {
   "cell_type": "code",
   "execution_count": 7,
   "metadata": {},
   "outputs": [],
   "source": [
    "import functools, numpy as np\n",
    "cosmologies = [[\n",
    "    [0.3 * ((1 + 0.048 * j) ** 3.22) * (0.985 ** i), 0.8 * (1.065 ** i)]\n",
    "    for j in range(-6 + max(i, 0), 7 + min(i, 0))]\n",
    "    for i in range(-3, 4)]\n",
    "cosmologies = functools.reduce(lambda x,y: x + y, cosmologies, [])\n",
    "cosmologies = np.array([[x[0], x[1] / np.sqrt(x[0]/0.3)] for x in cosmologies])\n",
    "cosmologies = np.array([[x[0], 1 - x[0], x[1]] for x in np.round(cosmologies[np.argsort(cosmologies[:,0])],4)])"
   ]
  },
  {
   "cell_type": "code",
   "execution_count": 9,
   "metadata": {},
   "outputs": [
    {
     "data": {
      "image/png": "[encoded data removed]",
      "text/plain": [
       "<Figure size 432x288 with 1 Axes>"
      ]
     },
     "metadata": {
      "needs_background": "light"
     },
     "output_type": "display_data"
    }
   ],
   "source": [
    "import matplotlib.pyplot as plt\n",
    "plt.scatter(cosmologies[:,0], cosmologies[:,2])\n",
    "plt.xlabel(\"$\\Omega_m$\"), plt.ylabel(\"$\\sigma_8$\")\n",
    "plt.show()"
   ]
  },
  {
   "attachments": {},
   "cell_type": "markdown",
   "metadata": {},
   "source": [
    "While a simulation is running, we ask `pkdgrav3` to take snapshots at certain redshifts to perform raytracing later. In my pipeline, I choose the redshifts so that the comoving distance between two adjcent snapshots is $120\\,\\mathrm{Mpc/h}$."
   ]
  },
  {
   "cell_type": "code",
   "execution_count": null,
   "metadata": {},
   "outputs": [],
   "source": [
    "import astropy.units, astropy.cosmology\n",
    "h0, Om0 = 0.6736, 0.3000\n",
    "zlist = list(map(lambda x: astropy.cosmology.z_at_value(\n",
    "    astropy.cosmology.FlatLambdaCDM(H0=100 * h0, Om0=Om0).comoving_distance, x),\n",
    "    np.arange(60, 4870, 120) * astropy.units.Mpc / h0))\n",
    "zlist.insert(0, 0.00001)\n",
    "print(\"\\n\".join([\"z{:1.5f}\".format(z) for z in zlist]))"
   ]
  },
  {
   "attachments": {},
   "cell_type": "markdown",
   "metadata": {},
   "source": [
    "The redshift schedule is stored in `./pkdgrav3_sims/template_Om0.0000_si0.0000_1024_500/snapshots/snapshot.red`, which will be copied to the directory for each simulation. If you want to use a different schedule, replace the content before preparing the directories."
   ]
  },
  {
   "attachments": {},
   "cell_type": "markdown",
   "metadata": {},
   "source": [
    "### Prepare config files and job scripts"
   ]
  },
  {
   "attachments": {},
   "cell_type": "markdown",
   "metadata": {},
   "source": [
    "In my workflow, the config files and job scripts for each simulation are identical except for the cosmology. `./pkdgrav3_sims/template_Om0.0000_si0.0000_1024_500` stores the template config files and job scripts assuming the number of particles being $N_p=1024^3$ and box size $500\\,\\mathrm{(Mpc/h)^3}$."
   ]
  },
  {
   "attachments": {},
   "cell_type": "markdown",
   "metadata": {},
   "source": [
    "In my workflow, the simulations are organized with the following structure:\n",
    "```\n",
    "-- <simulation_directory>/\n",
    "    |-- sim_Om0.1005_si1.3823_1024_500/\n",
    "         |-- halos/         # halo finder results\n",
    "         |-- ics/           # initial condition\n",
    "         |-- snapshots/     # simulation snapshots\n",
    "         |-- cosmology.par  # simulation parameters\n",
    "         |-- halo.slurm     # halo finder job script\n",
    "         |-- job.slurm      # simulation job script\n",
    "         |-- ...\n",
    "    |-- sim_Om0.1020_si1.2881_1024_500/\n",
    "    |-- ...\n",
    "    |-- sim_Om0.6777_si0.5323_1024_500/\n",
    "```\n",
    "The name of each subdirectory is the form of `sim_Om<Omega_m>_si<sigma_8>_<grid_size>_<physical_size>`."
   ]
  },
  {
   "attachments": {},
   "cell_type": "markdown",
   "metadata": {},
   "source": [
    "`./pkdgrav3_sims/prepare_sim.sh` is a script to prepare each of the subdirectories. Before using `prepare_sim.sh`, you should set `PKDGRAV3_PATH` and `MUSIC_PATH` in this script to your `pkdgrav3` and `MUSIC` paths, and you should check other cosmological parameters (the same across all simulations) defined in `prepare_sim.sh`. If you want to change the number of particles or the box size, I suggest you to make a copy of the template configs and scripts (renaming the `_1024_500` part) and check each of the configs and scripts to make sure they are correct, and change the constants in `main.cpp` for `hsclens`."
   ]
  },
  {
   "attachments": {},
   "cell_type": "markdown",
   "metadata": {},
   "source": [
    "If you want to create a subdirectory under `.../my_simulations/` for the fiducial cosmology ($\\Oemga_m=0.8$, $\\sigma_8=0.8$) so that you can run the simulations on Stampede2's `skx-normal` queue (48 cores per node). You can run:\n",
    "```bash\n",
    "cd .../my_simulations/\n",
    "bash <repo_path>/pkdgrav3_sims/prepare_sim.sh 0.3000 0.7000 0.8000 skx-normal 48\n",
    "```\n",
    ", where `<repo_path>` is the path to this repository."
   ]
  },
  {
   "attachments": {},
   "cell_type": "markdown",
   "metadata": {},
   "source": [
    "And to get the commands for all cosmologies we calculated before, run the following Python code:"
   ]
  },
  {
   "cell_type": "code",
   "execution_count": null,
   "metadata": {},
   "outputs": [
    {
     "ename": "",
     "evalue": "",
     "output_type": "error",
     "traceback": [
      "\u001b[1;31mThe Kernel crashed while executing code in the the current cell or a previous cell. Please review the code in the cell(s) to identify a possible cause of the failure. Click <a href='https://aka.ms/vscodeJupyterKernelCrash'>here</a> for more info. View Jupyter <a href='command:jupyter.viewOutput'>log</a> for further details."
     ]
    }
   ],
   "source": [
    "for i in range(len(cosmologies)):\n",
    "    print(\"bash <repo_path>/pkdgrav3_sims/prepare_sim.sh {:1.4f} {:1.4f} {:1.4f} skx-normal 48\".format(*cosmologies[i]))"
   ]
  },
  {
   "attachments": {},
   "cell_type": "markdown",
   "metadata": {},
   "source": [
    "### Run job scripts"
   ]
  },
  {
   "attachments": {},
   "cell_type": "markdown",
   "metadata": {},
   "source": [
    "To start an *N*-body simulation, execute\n",
    "```bash\n",
    "sbatch job.slurm\n",
    "```"
   ]
  },
  {
   "attachments": {},
   "cell_type": "markdown",
   "metadata": {},
   "source": [
    "By default, `job.slurm` sets the job time to be 48 hours, which is enough to finish any of the simulations with the default particle number and box size on Stampede2. It may take a shorter time to finish on Frontera."
   ]
  },
  {
   "attachments": {},
   "cell_type": "markdown",
   "metadata": {},
   "source": [
    "To run the halo finder, execute\n",
    "```bash\n",
    "sbatch halo.slurm\n",
    "```"
   ]
  },
  {
   "attachments": {},
   "cell_type": "markdown",
   "metadata": {},
   "source": [
    "By default, `halo.slurm` sets the job time to be 10 hours. Sometimes, it may not be enough or may be interrupted, and in those cases, you can submit the job again and the halo finder will start from where it was interrupted."
   ]
  },
  {
   "attachments": {},
   "cell_type": "markdown",
   "metadata": {},
   "source": [
    "## Density slabs and BCM"
   ]
  },
  {
   "attachments": {},
   "cell_type": "markdown",
   "metadata": {},
   "source": [
    "### Slab configurations"
   ]
  },
  {
   "attachments": {},
   "cell_type": "markdown",
   "metadata": {},
   "source": [
    "The lensing signals are raytraced through the density slabs cut from the snapshots. To speed up the process, we cut all the slabs before any raytracing and store their column density maps together with the halo information. "
   ]
  },
  {
   "attachments": {},
   "cell_type": "markdown",
   "metadata": {},
   "source": [
    "The exactly slab configurations (thickness, comoving distance, etc.) for each cosmology varies. Here, we generate a `slab.config` file that contains those configuations in each simulation subdirectory. To do this, change the working directory to be one of the simulations, e.g. `sim_Om0.3000_si0.8000_1024_500/`, and run\n",
    "```bash\n",
    "python <repo_path>/generate-slab-config.py\n",
    "```\n",
    "`generate-slab-config.py` will combine the cosmology from the directiry name and `snapshots.red` to do the calculation. By default, $h_0=0.6736$ (Planck 2018) and $z_\\mathrm{max}=3.0$ is used, which can be modified in the script. "
   ]
  },
  {
   "attachments": {},
   "cell_type": "markdown",
   "metadata": {},
   "source": [
    "### Density maps"
   ]
  },
  {
   "attachments": {},
   "cell_type": "markdown",
   "metadata": {},
   "source": [
    "With `slab.config` ready, run\n",
    "```bash\n",
    "<repo_path>/hsclens calc_density_maps ./slab.config ./halos/ ./density/ 3e12\n",
    "```\n",
    "to calculate and save the slab and halo information to `./density/`, where `3e12` means that the halo mass threshold is $3\\times10^{12}\\mathrm{M}_\\odot$."
   ]
  },
  {
   "attachments": {},
   "cell_type": "markdown",
   "metadata": {},
   "source": [
    "### BCM"
   ]
  },
  {
   "attachments": {},
   "cell_type": "markdown",
   "metadata": {},
   "source": [
    "The baryons are added to the halos with BCM. We pre-compute the BCM patches so that they can be painted onto halos faster. To generate the BCM patches, run\n",
    "```bash\n",
    "<repo_path>/hsclens calc_bcm_patches <bcm_patches_output_dir>\n",
    "```\n",
    ", and the data are saved in `<bcm_patches_output_dir>`."
   ]
  },
  {
   "attachments": {},
   "cell_type": "markdown",
   "metadata": {},
   "source": [
    "## The HSC catalog"
   ]
  },
  {
   "attachments": {},
   "cell_type": "markdown",
   "metadata": {},
   "source": [
    "### Download"
   ]
  },
  {
   "attachments": {},
   "cell_type": "markdown",
   "metadata": {},
   "source": [
    "The HSC Y1 shape catalog can be queried from [HSC PDR](https://hsc-release.mtk.nao.ac.jp/datasearch/) with\n",
    "```sql\n",
    "select\n",
    "    b.*, a.ishape_hsm_regauss_e1, a.ishape_hsm_regauss_e2, a.ishape_hsm_psfmoments_11, a.ishape_hsm_psfmoments_22, a.ishape_hsm_psfmoments_12, c.ira, c.idec, d.photoz_best\n",
    "from\n",
    "    s16a_wide.meas2 a\n",
    "    inner join s16a_wide.weaklensing_hsm_regauss b using (object_id)\n",
    "    inner join s16a_wide.meas c using (object_id)\n",
    "    inner join s16a_wide.photoz_ephor_ab d using (object_id)\n",
    "```\n",
    "The result from my job is stored at `/work2/06005/tg853047/stampede2/hsc-baryon/catalog/s16a-catalog.csv`."
   ]
  },
  {
   "attachments": {},
   "cell_type": "markdown",
   "metadata": {},
   "source": [
    "The files for photo-*z* calibration can be downloaded from\n",
    "\n",
    "1. [pdf-s17a_wide-9812.cat](https://hsc-release.mtk.nao.ac.jp/archive/filetree/cosmos_photoz_catalog_reweighted_to_s16a_shape_catalog/ephor_ab/pdf-s17a_wide-9812.cat.fits)\n",
    "2. [pdf-s17a_wide-9813.cat](https://hsc-release.mtk.nao.ac.jp/archive/filetree/cosmos_photoz_catalog_reweighted_to_s16a_shape_catalog/ephor_ab/pdf-s17a_wide-9813.cat.fits)\n",
    "3. [Afterburner_reweighted_COSMOS_photoz_FDFC](https://hsc-release.mtk.nao.ac.jp/archive/filetree/cosmos_photoz_catalog_reweighted_to_s16a_shape_catalog/Afterburner_reweighted_COSMOS_photoz_FDFC.fits)\n",
    "\n",
    "They can be accessed from `/work2/06005/tg853047/stampede2/hsc-baryon/catalog/`."
   ]
  },
  {
   "cell_type": "markdown",
   "metadata": {},
   "source": [
    "### Process"
   ]
  },
  {
   "attachments": {},
   "cell_type": "markdown",
   "metadata": {},
   "source": [
    "Run the following python code to process the HSC catalog. \n",
    "\n",
    "Note that the raytracing redshift $z_\\mathrm{rt}$ will be randomly sampled, so they are not preserved after regeneration of the catalogs. The processed catalogs and masks used in the paper can be accessed from `/work2/06005/tg853047/stampede2/hsc-baryon/catalog/`."
   ]
  },
  {
   "cell_type": "code",
   "execution_count": null,
   "metadata": {},
   "outputs": [],
   "source": [
    "import pandas as pd\n",
    "s16a = pd.read_csv(\".../s16a-catalog.csv\", index_col=0, header=None, comment=\"#\",\n",
    "    names=\"id,w,m,c1,c2,sigma_e,rms_e,e1,e2,psf_m11,psf_m22,psf_m12,ra,dec,z_best\".split(\",\"))"
   ]
  },
  {
   "cell_type": "code",
   "execution_count": null,
   "metadata": {},
   "outputs": [],
   "source": [
    "z_bins = np.array([[0.3, 0.6], [0.6, 0.9], [0.9, 1.2], [1.2, 1.5]])\n",
    "for i in np.arange(4):\n",
    "    s16a.loc[(z_bins[i,0] <= s16a[\"z_best\"]) & (s16a[\"z_best\"] < z_bins[i,1]), \"z_bin\"] = i"
   ]
  },
  {
   "cell_type": "code",
   "execution_count": null,
   "metadata": {},
   "outputs": [],
   "source": [
    "from astropy.io import fits\n",
    "with fits.open(\"./data/pdf-s17a_wide-9812.cat.fits\") as data:\n",
    "    z9812 = pd.DataFrame({\"id\": data[1].data[\"ID\"],\"z_best\": data[1].data[\"PHOTOZ_BEST\"]})\n",
    "with fits.open(\"./data/pdf-s17a_wide-9813.cat.fits\") as data:\n",
    "    z9813 = pd.DataFrame({\"id\": data[1].data[\"ID\"],\"z_best\": data[1].data[\"PHOTOZ_BEST\"]})\n",
    "z_ephor_ab = pd.concat([z9812, z9813], axis=0, ignore_index=True)\n",
    "del z9812, z9813\n",
    "with fits.open(\"./data/Afterburner_reweighted_COSMOS_photoz_FDFC.fits\") as data:\n",
    "    z_cosmos = pd.DataFrame({\n",
    "        \"id\": data[1].data[\"S17a_objid\"].astype(\"i8\"),\n",
    "        \"z_cosmos\": data[1].data[\"COSMOS_photoz\"].astype(\"f8\"),\n",
    "        \"w_som\": data[1].data[\"SOM_weight\"].astype(\"f8\")\n",
    "    })\n",
    "z_mapping = pd.merge(z_ephor_ab, z_cosmos, how=\"inner\", on=\"id\")"
   ]
  },
  {
   "cell_type": "code",
   "execution_count": null,
   "metadata": {},
   "outputs": [],
   "source": [
    "from scipy import stats\n",
    "for i in np.arange(4):\n",
    "    selected = z_mapping[(z_bins[i,0] <= z_mapping.z_best) & (z_mapping.z_best < z_bins[i,1]) & (z_mapping.z_cosmos < z_bins[i,1] + 1.2)]\n",
    "    kde = stats.gaussian_kde(selected[\"z_cosmos\"], bw_method=0.03, weights=selected[\"w_som\"])\n",
    "    samples = kde.resample((s16a[\"z_bin\"] == i).sum())[0]\n",
    "    s16a.loc[s16a[\"z_bin\"] == i, \"z_rt\"] = np.sort(samples)[np.argsort(np.argsort(s16a.loc[s16a[\"z_bin\"] == i, \"z_best\"]))]\n",
    "    print(f\"z_bin={i:d}, min={np.min(samples):1.4f}, max={np.max(samples):1.4f}, mean={np.mean(samples):1.4f}, median={np.median(samples):1.4f}, std={np.std(samples):1.4f}\")"
   ]
  },
  {
   "cell_type": "code",
   "execution_count": null,
   "metadata": {},
   "outputs": [],
   "source": [
    "import matplotlib.pyplot as plt\n",
    "plt.figure(figsize=(12, 3))\n",
    "for i in range(4):\n",
    "    plt.hist(s16a.loc[s16a[\"z_bin\"] == i, \"z_rt\"], bins=250, range=(0,2.5), density=True, label=f\"z_bin={i:d}\", histtype=\"step\")\n",
    "    plt.axvspan(z_bins[i,0], z_bins[i,1], alpha=0.1, color=plt.rcParams['axes.prop_cycle'].by_key()['color'][i])\n",
    "plt.legend()\n",
    "plt.show()"
   ]
  },
  {
   "cell_type": "code",
   "execution_count": null,
   "metadata": {},
   "outputs": [],
   "source": [
    "fieldBounds = np.array([\n",
    "    [[29.8,32.8],[-5.8,-2.8]],[[32.8,35.8],[-6.0,-3.0]],[[35.8,38.8],[-5.8,-2.8]],\n",
    "    [[128.9,131.9],[-0.5,2.5]],[[131.9,134.9],[-0.5,2.5]],[[134.9,137.9],[-0.1,2.9]],[[137.9,140.9],[-1.0,2.0]],\n",
    "    [[176.4,179.4],[-1.7,1.3]],[[179.4,182.4],[-1.7,1.3]],\n",
    "    [[210.3,213.3],[-1.7,1.3]],[[213.3,216.3],[-1.7,1.3]],[[216.3,219.3],[-1.7,1.3]],[[219.3,222.3],[-1.7,1.3]],[[222.3,225.3],[-1.7,1.3]],\n",
    "    [[239.13,243.3],[41.9,44.9]],[[243.3,247.47],[41.9,44.9]],\n",
    "    [[331.8,334.8],[-0.8,2.2]],[[334.8,337.8],[-0.8,2.2]],[[337.8,340.8],[-0.8,2.2]]\n",
    "])\n",
    "fieldCenters = np.mean(fieldBounds, axis=-1)\n",
    "\n",
    "def getXY(ra0, dec0, ra, dec):\n",
    "    deg = np.pi / 180.0\n",
    "    r0, d0 = ra0 * deg, dec0 * deg\n",
    "    r = ra * deg\n",
    "    d = dec * deg\n",
    "    l = np.sin(d0) * np.sin(d) + np.cos(d0) * np.cos(d) * np.cos(r - r0)\n",
    "    x = (np.cos(d) * np.sin(r - r0)) / l\n",
    "    y = (np.cos(d0) * np.sin(d) - np.sin(d0) * np.cos(d) * np.cos(r - r0)) / l\n",
    "    return (x / deg, y / deg)"
   ]
  },
  {
   "cell_type": "code",
   "execution_count": null,
   "metadata": {},
   "outputs": [],
   "source": [
    "s16aFields = []\n",
    "for i in range(len(fieldBounds)):\n",
    "    bounds = fieldBounds[i]\n",
    "    field = s16a.loc[(bounds[0,0] < s16a.ra) & (s16a.ra < bounds[0,1]) & (bounds[1,0] < s16a.dec) & (s16a.dec < bounds[1,1])].copy()\n",
    "    x, y = getXY(fieldCenters[i][0], fieldCenters[i][1], field.ra.values, field.dec.values)\n",
    "    field[\"field\"], field[\"x\"], field[\"y\"] = np.full_like(x, i, dtype=\"i4\"), x, y\n",
    "    field[\"m_bias\"] = np.array([0.0086,0.0099,0.0241,0.0391,0.0])[np.nan_to_num(field[\"z_bin\"].values, nan=4.0).astype(\"i\")]\n",
    "    field = field.loc[(-1.5 < field.x) & (field.x < 1.5) & (-1.5 < field.y) & (field.y < 1.5) & field.z_bin.notna()]\n",
    "    field = field.astype({\"z_bin\": \"int\"})\n",
    "    s16aFields.append(field)"
   ]
  },
  {
   "cell_type": "code",
   "execution_count": null,
   "metadata": {},
   "outputs": [],
   "source": [
    "# Uncomment the next two lines to save the catalogs to files (make sure the files names are correct!)\n",
    "# for i in range(len(s16aFields)):\n",
    "#     s16aFields[i].to_csv(f\".../s16a-catalog-field{i+1:02d}.csv\")"
   ]
  },
  {
   "cell_type": "code",
   "execution_count": null,
   "metadata": {},
   "outputs": [],
   "source": [
    "from scipy import ndimage\n",
    "def getCounts(df, bins=1024, range=[[-1.5,1.5],[-1.5,1.5]]):\n",
    "    hist = np.histogram2d(df.x.values, df.y.values, bins=bins, range=range)[0]\n",
    "    return hist.astype(\"f8\")\n",
    "\n",
    "def getBinaryMask(counts, radius=2.0, threshold=0.15, reduction=1):\n",
    "    mask = ndimage.gaussian_filter((counts > 0).astype(\"float\"), radius) > threshold\n",
    "    size = mask.shape[0]\n",
    "    assert size % reduction == 0\n",
    "    return np.swapaxes(mask.reshape((size // reduction, reduction, size // reduction, reduction)), 1, 2).mean(axis=(2,3)).astype(\"f4\")\n",
    "\n",
    "for i in range(len(s16aFields)):\n",
    "    size = 208\n",
    "    mask = getBinaryMask(getCounts(s16aFields[i], bins=size*5), 2.0, 0.175, 5)\n",
    "    # Uncomment the next line to save the masks to files (make sure the files names are correct!)\n",
    "    # mask.astype(\"f4\").tofile(f\".../s16a-mask-size{size}-field{i+1:02d}.f32\")"
   ]
  },
  {
   "attachments": {},
   "cell_type": "markdown",
   "metadata": {},
   "source": [
    "## Raytracing"
   ]
  },
  {
   "attachments": {},
   "cell_type": "markdown",
   "metadata": {},
   "source": [
    "Raytracing generates weak lensing shear maps and intrinsic alignment maps from density maps and halo information, with command\n",
    "```bash\n",
    "hsclens calc_hsc_ray_tracing <slab_config> <density_dir> <raytracing_dir> <catalog_dir> <bcm_patches_dir> <baryon_model> <num_realizations> <first_seed>\n",
    "```\n",
    "The meaning of the arguments are:\n",
    "- `<slab_config>`: the path to `slab.config`\n",
    "- `<density_dir>`: the path to `density/`\n",
    "- `<raytracing_dir>`: the path to `raytracing/` (the output directory)\n",
    "- `<catalog_dir>`: the path to the processed HSC catalogs and masks\n",
    "- `<bcm_patches_dir>`: the path to the BCM patches\n",
    "- `<baryon_model>`: one of `fiducial`, `free`, or `none`\n",
    "- `<num_realizations>`: number of realizations to be generated\n",
    "- `<first_seed>`: the random seed of the first realization\n",
    "\n",
    "The output files for each command are:\n",
    "1. `sim-wg-allfields.<first_seed>.<num_realizations>.c64`: non-tomographic WL map ($\\sum_i w_ig_i$ for each pixel)\n",
    "2. `sim-wg-tomo-allfields.<first_seed>.<num_realizations>.c64`: tomographic WL map ($\\sum_i w_ig_i$ for each pixel)"
   ]
  },
  {
   "attachments": {},
   "cell_type": "markdown",
   "metadata": {},
   "source": [
    "In my workflow, I set `<num_realizations>=10`, and run 4 `hsclens` raytracing processes in parallel on one node, where each process uses 12 threads. With this configuration, 400 realizations can be generated per hour per node on Stampede2. To speed up the reading of the catalogs and BCM patches, I recommend copying them to `/dev/shm/` at the beginning of the jobs."
   ]
  },
  {
   "attachments": {},
   "cell_type": "markdown",
   "metadata": {},
   "source": [
    "Here is an example job script to do raytracing, where I generate 800 realizations for the fiducial cosmology. (You can also use TACC's `launcher` to run raytracing for all cosmologies with one job.)\n",
    "```bash\n",
    "#!/bin/bash\n",
    "#SBATCH -J raytrace\n",
    "#SBATCH -o raytrace.o%j\n",
    "#SBATCH -e raytrace.e%j\n",
    "#SBATCH -p skx-normal\n",
    "#SBATCH -N 1\n",
    "#SBATCH -n 1\n",
    "#SBATCH -t 03:00:00\n",
    "\n",
    "ml intel/19 impi\n",
    "export OMP_NUM_THREADS=12\n",
    "cp -r $WORK2/../stampede2/hsc-baryon/catalog/ /dev/shm/\n",
    "cp -r $WORK2/../stampede2/hsclens/bcm_patches/ /dev/shm/\n",
    "date && cd /scratch/06005/tg853047/pkdgrav3_sims/sim_Om0.3000_si0.8000_1024_500 && (seq 0 10 799 | xargs -n1 -P4 $WORK2/hsclens/hsclens calc_hsc_ray_tracing slab.config ./density/ ./raytracing/ /dev/shm/catalog/ /dev/shm/bcm_patches/ free 10 > output.log) && date\n",
    "```"
   ]
  },
  {
   "attachments": {},
   "cell_type": "markdown",
   "metadata": {},
   "source": [
    "## Statistics"
   ]
  },
  {
   "attachments": {},
   "cell_type": "markdown",
   "metadata": {},
   "source": [
    "To be finished..."
   ]
  }
 ],
 "metadata": {
  "kernelspec": {
   "display_name": "Python 3",
   "language": "python",
   "name": "python3"
  },
  "language_info": {
   "codemirror_mode": {
    "name": "ipython",
    "version": 3
   },
   "file_extension": ".py",
   "mimetype": "text/x-python",
   "name": "python",
   "nbconvert_exporter": "python",
   "pygments_lexer": "ipython3",
   "version": "3.6.7"
  },
  "orig_nbformat": 4,
  "vscode": {
   "interpreter": {
    "hash": "31f2aee4e71d21fbe5cf8b01ff0e069b9275f58929596ceb00d14d90e3e16cd6"
   }
  }
 },
 "nbformat": 4,
 "nbformat_minor": 2
}
